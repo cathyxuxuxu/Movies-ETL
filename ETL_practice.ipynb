{
 "cells": [
  {
   "cell_type": "code",
   "execution_count": 1,
   "metadata": {},
   "outputs": [],
   "source": [
    "import json\n",
    "import pandas as pd\n",
    "import numpy as np"
   ]
  },
  {
   "cell_type": "markdown",
   "metadata": {},
   "source": [
    "# Extract"
   ]
  },
  {
   "cell_type": "code",
   "execution_count": 3,
   "metadata": {},
   "outputs": [
    {
     "data": {
      "text/plain": [
       "7311"
      ]
     },
     "execution_count": 3,
     "metadata": {},
     "output_type": "execute_result"
    }
   ],
   "source": [
    "file_dir='/Users/xutian/Desktop/DATA BOOT CAMP/Module 8/Movies-ETL'\n",
    "\n",
    "with open (f'{file_dir}/wikipedia-movies.json',mode='r') as file:\n",
    "    wiki_movies_raw=json.load(file) # to load raw JSON into a list of dictionary\n",
    "    \n",
    "len(wiki_movies_raw)"
   ]
  },
  {
   "cell_type": "code",
   "execution_count": 44,
   "metadata": {},
   "outputs": [],
   "source": [
    "# First 5 record\n",
    "#wiki_movies_raw[:5]"
   ]
  },
  {
   "cell_type": "code",
   "execution_count": 45,
   "metadata": {},
   "outputs": [],
   "source": [
    "# Last 5 records\n",
    "#wiki_movies_raw[-5:]"
   ]
  },
  {
   "cell_type": "code",
   "execution_count": 46,
   "metadata": {},
   "outputs": [],
   "source": [
    "# Some records in the middle\n",
    "#wiki_movies_raw[3600:3605]"
   ]
  },
  {
   "cell_type": "code",
   "execution_count": 47,
   "metadata": {},
   "outputs": [],
   "source": [
    "#wiki_movies_raw[0]"
   ]
  },
  {
   "cell_type": "code",
   "execution_count": 8,
   "metadata": {},
   "outputs": [],
   "source": [
    "kaggle_metadata=pd.read_csv(f'{file_dir}/movies_metadata.csv',low_memory=False)\n",
    "ratings=pd.read_csv('ratings.csv')"
   ]
  },
  {
   "cell_type": "code",
   "execution_count": 10,
   "metadata": {},
   "outputs": [
    {
     "data": {
      "text/html": [
       "<div>\n",
       "<style scoped>\n",
       "    .dataframe tbody tr th:only-of-type {\n",
       "        vertical-align: middle;\n",
       "    }\n",
       "\n",
       "    .dataframe tbody tr th {\n",
       "        vertical-align: top;\n",
       "    }\n",
       "\n",
       "    .dataframe thead th {\n",
       "        text-align: right;\n",
       "    }\n",
       "</style>\n",
       "<table border=\"1\" class=\"dataframe\">\n",
       "  <thead>\n",
       "    <tr style=\"text-align: right;\">\n",
       "      <th></th>\n",
       "      <th>userId</th>\n",
       "      <th>movieId</th>\n",
       "      <th>rating</th>\n",
       "      <th>timestamp</th>\n",
       "    </tr>\n",
       "  </thead>\n",
       "  <tbody>\n",
       "    <tr>\n",
       "      <th>0</th>\n",
       "      <td>1</td>\n",
       "      <td>110</td>\n",
       "      <td>1.0</td>\n",
       "      <td>1425941529</td>\n",
       "    </tr>\n",
       "    <tr>\n",
       "      <th>1</th>\n",
       "      <td>1</td>\n",
       "      <td>147</td>\n",
       "      <td>4.5</td>\n",
       "      <td>1425942435</td>\n",
       "    </tr>\n",
       "    <tr>\n",
       "      <th>2</th>\n",
       "      <td>1</td>\n",
       "      <td>858</td>\n",
       "      <td>5.0</td>\n",
       "      <td>1425941523</td>\n",
       "    </tr>\n",
       "    <tr>\n",
       "      <th>3</th>\n",
       "      <td>1</td>\n",
       "      <td>1221</td>\n",
       "      <td>5.0</td>\n",
       "      <td>1425941546</td>\n",
       "    </tr>\n",
       "    <tr>\n",
       "      <th>4</th>\n",
       "      <td>1</td>\n",
       "      <td>1246</td>\n",
       "      <td>5.0</td>\n",
       "      <td>1425941556</td>\n",
       "    </tr>\n",
       "  </tbody>\n",
       "</table>\n",
       "</div>"
      ],
      "text/plain": [
       "   userId  movieId  rating   timestamp\n",
       "0       1      110     1.0  1425941529\n",
       "1       1      147     4.5  1425942435\n",
       "2       1      858     5.0  1425941523\n",
       "3       1     1221     5.0  1425941546\n",
       "4       1     1246     5.0  1425941556"
      ]
     },
     "execution_count": 10,
     "metadata": {},
     "output_type": "execute_result"
    }
   ],
   "source": [
    "ratings.head()"
   ]
  },
  {
   "cell_type": "code",
   "execution_count": 13,
   "metadata": {},
   "outputs": [
    {
     "data": {
      "text/html": [
       "<div>\n",
       "<style scoped>\n",
       "    .dataframe tbody tr th:only-of-type {\n",
       "        vertical-align: middle;\n",
       "    }\n",
       "\n",
       "    .dataframe tbody tr th {\n",
       "        vertical-align: top;\n",
       "    }\n",
       "\n",
       "    .dataframe thead th {\n",
       "        text-align: right;\n",
       "    }\n",
       "</style>\n",
       "<table border=\"1\" class=\"dataframe\">\n",
       "  <thead>\n",
       "    <tr style=\"text-align: right;\">\n",
       "      <th></th>\n",
       "      <th>adult</th>\n",
       "      <th>belongs_to_collection</th>\n",
       "      <th>budget</th>\n",
       "      <th>genres</th>\n",
       "      <th>homepage</th>\n",
       "      <th>id</th>\n",
       "      <th>imdb_id</th>\n",
       "      <th>original_language</th>\n",
       "      <th>original_title</th>\n",
       "      <th>overview</th>\n",
       "      <th>...</th>\n",
       "      <th>release_date</th>\n",
       "      <th>revenue</th>\n",
       "      <th>runtime</th>\n",
       "      <th>spoken_languages</th>\n",
       "      <th>status</th>\n",
       "      <th>tagline</th>\n",
       "      <th>title</th>\n",
       "      <th>video</th>\n",
       "      <th>vote_average</th>\n",
       "      <th>vote_count</th>\n",
       "    </tr>\n",
       "  </thead>\n",
       "  <tbody>\n",
       "    <tr>\n",
       "      <th>30431</th>\n",
       "      <td>False</td>\n",
       "      <td>NaN</td>\n",
       "      <td>0</td>\n",
       "      <td>[{'id': 10751, 'name': 'Family'}, {'id': 18, '...</td>\n",
       "      <td>NaN</td>\n",
       "      <td>245017</td>\n",
       "      <td>tt0442001</td>\n",
       "      <td>es</td>\n",
       "      <td>Binta y la gran idea</td>\n",
       "      <td>Binta, a little girl from Senegal, tells us ab...</td>\n",
       "      <td>...</td>\n",
       "      <td>2004-10-25</td>\n",
       "      <td>0.0</td>\n",
       "      <td>30.0</td>\n",
       "      <td>[{'iso_639_1': 'fr', 'name': 'Français'}]</td>\n",
       "      <td>Released</td>\n",
       "      <td>NaN</td>\n",
       "      <td>Binta and the Great Idea</td>\n",
       "      <td>False</td>\n",
       "      <td>3.5</td>\n",
       "      <td>3.0</td>\n",
       "    </tr>\n",
       "    <tr>\n",
       "      <th>41016</th>\n",
       "      <td>False</td>\n",
       "      <td>{'id': 259401, 'name': 'The Invisible Man (Uni...</td>\n",
       "      <td>0</td>\n",
       "      <td>[{'id': 27, 'name': 'Horror'}, {'id': 878, 'na...</td>\n",
       "      <td>NaN</td>\n",
       "      <td>28425</td>\n",
       "      <td>tt0036959</td>\n",
       "      <td>en</td>\n",
       "      <td>The Invisible Man's Revenge</td>\n",
       "      <td>An eccentric scientist helps a fugitive from t...</td>\n",
       "      <td>...</td>\n",
       "      <td>1944-06-09</td>\n",
       "      <td>0.0</td>\n",
       "      <td>78.0</td>\n",
       "      <td>[{'iso_639_1': 'en', 'name': 'English'}]</td>\n",
       "      <td>Released</td>\n",
       "      <td>NaN</td>\n",
       "      <td>The Invisible Man's Revenge</td>\n",
       "      <td>False</td>\n",
       "      <td>5.4</td>\n",
       "      <td>7.0</td>\n",
       "    </tr>\n",
       "    <tr>\n",
       "      <th>14484</th>\n",
       "      <td>False</td>\n",
       "      <td>NaN</td>\n",
       "      <td>70000000</td>\n",
       "      <td>[{'id': 878, 'name': 'Science Fiction'}, {'id'...</td>\n",
       "      <td>http://www.sonypictures.com/movies/planet51/</td>\n",
       "      <td>16866</td>\n",
       "      <td>tt0762125</td>\n",
       "      <td>en</td>\n",
       "      <td>Planet 51</td>\n",
       "      <td>When Earth astronaut Capt. Chuck Baker arrives...</td>\n",
       "      <td>...</td>\n",
       "      <td>2009-11-19</td>\n",
       "      <td>104945765.0</td>\n",
       "      <td>91.0</td>\n",
       "      <td>[{'iso_639_1': 'en', 'name': 'English'}, {'iso...</td>\n",
       "      <td>Released</td>\n",
       "      <td>Something strange is coming to their planet...Us!</td>\n",
       "      <td>Planet 51</td>\n",
       "      <td>False</td>\n",
       "      <td>5.6</td>\n",
       "      <td>573.0</td>\n",
       "    </tr>\n",
       "    <tr>\n",
       "      <th>8577</th>\n",
       "      <td>False</td>\n",
       "      <td>NaN</td>\n",
       "      <td>0</td>\n",
       "      <td>[{'id': 80, 'name': 'Crime'}, {'id': 18, 'name...</td>\n",
       "      <td>NaN</td>\n",
       "      <td>10299</td>\n",
       "      <td>tt0058213</td>\n",
       "      <td>en</td>\n",
       "      <td>Hush... Hush, Sweet Charlotte</td>\n",
       "      <td>An aging, reclusive Southern belle plagued by ...</td>\n",
       "      <td>...</td>\n",
       "      <td>1964-12-15</td>\n",
       "      <td>0.0</td>\n",
       "      <td>133.0</td>\n",
       "      <td>[{'iso_639_1': 'en', 'name': 'English'}]</td>\n",
       "      <td>Released</td>\n",
       "      <td>The years will soon erase a lover's lies...the...</td>\n",
       "      <td>Hush... Hush, Sweet Charlotte</td>\n",
       "      <td>False</td>\n",
       "      <td>7.0</td>\n",
       "      <td>54.0</td>\n",
       "    </tr>\n",
       "    <tr>\n",
       "      <th>36855</th>\n",
       "      <td>False</td>\n",
       "      <td>NaN</td>\n",
       "      <td>0</td>\n",
       "      <td>[{'id': 28, 'name': 'Action'}, {'id': 35, 'nam...</td>\n",
       "      <td>NaN</td>\n",
       "      <td>278778</td>\n",
       "      <td>tt1294141</td>\n",
       "      <td>en</td>\n",
       "      <td>Dancing Ninja</td>\n",
       "      <td>An orphaned boy who dreams of being a ninja ar...</td>\n",
       "      <td>...</td>\n",
       "      <td>2013-10-08</td>\n",
       "      <td>0.0</td>\n",
       "      <td>97.0</td>\n",
       "      <td>[{'iso_639_1': 'en', 'name': 'English'}]</td>\n",
       "      <td>Released</td>\n",
       "      <td>He's a Kung Fool Fighter!</td>\n",
       "      <td>Dancing Ninja</td>\n",
       "      <td>False</td>\n",
       "      <td>4.7</td>\n",
       "      <td>3.0</td>\n",
       "    </tr>\n",
       "  </tbody>\n",
       "</table>\n",
       "<p>5 rows × 24 columns</p>\n",
       "</div>"
      ],
      "text/plain": [
       "       adult                              belongs_to_collection    budget  \\\n",
       "30431  False                                                NaN         0   \n",
       "41016  False  {'id': 259401, 'name': 'The Invisible Man (Uni...         0   \n",
       "14484  False                                                NaN  70000000   \n",
       "8577   False                                                NaN         0   \n",
       "36855  False                                                NaN         0   \n",
       "\n",
       "                                                  genres  \\\n",
       "30431  [{'id': 10751, 'name': 'Family'}, {'id': 18, '...   \n",
       "41016  [{'id': 27, 'name': 'Horror'}, {'id': 878, 'na...   \n",
       "14484  [{'id': 878, 'name': 'Science Fiction'}, {'id'...   \n",
       "8577   [{'id': 80, 'name': 'Crime'}, {'id': 18, 'name...   \n",
       "36855  [{'id': 28, 'name': 'Action'}, {'id': 35, 'nam...   \n",
       "\n",
       "                                           homepage      id    imdb_id  \\\n",
       "30431                                           NaN  245017  tt0442001   \n",
       "41016                                           NaN   28425  tt0036959   \n",
       "14484  http://www.sonypictures.com/movies/planet51/   16866  tt0762125   \n",
       "8577                                            NaN   10299  tt0058213   \n",
       "36855                                           NaN  278778  tt1294141   \n",
       "\n",
       "      original_language                 original_title  \\\n",
       "30431                es           Binta y la gran idea   \n",
       "41016                en    The Invisible Man's Revenge   \n",
       "14484                en                      Planet 51   \n",
       "8577                 en  Hush... Hush, Sweet Charlotte   \n",
       "36855                en                  Dancing Ninja   \n",
       "\n",
       "                                                overview  ... release_date  \\\n",
       "30431  Binta, a little girl from Senegal, tells us ab...  ...   2004-10-25   \n",
       "41016  An eccentric scientist helps a fugitive from t...  ...   1944-06-09   \n",
       "14484  When Earth astronaut Capt. Chuck Baker arrives...  ...   2009-11-19   \n",
       "8577   An aging, reclusive Southern belle plagued by ...  ...   1964-12-15   \n",
       "36855  An orphaned boy who dreams of being a ninja ar...  ...   2013-10-08   \n",
       "\n",
       "           revenue runtime                                   spoken_languages  \\\n",
       "30431          0.0    30.0          [{'iso_639_1': 'fr', 'name': 'Français'}]   \n",
       "41016          0.0    78.0           [{'iso_639_1': 'en', 'name': 'English'}]   \n",
       "14484  104945765.0    91.0  [{'iso_639_1': 'en', 'name': 'English'}, {'iso...   \n",
       "8577           0.0   133.0           [{'iso_639_1': 'en', 'name': 'English'}]   \n",
       "36855          0.0    97.0           [{'iso_639_1': 'en', 'name': 'English'}]   \n",
       "\n",
       "         status                                            tagline  \\\n",
       "30431  Released                                                NaN   \n",
       "41016  Released                                                NaN   \n",
       "14484  Released  Something strange is coming to their planet...Us!   \n",
       "8577   Released  The years will soon erase a lover's lies...the...   \n",
       "36855  Released                          He's a Kung Fool Fighter!   \n",
       "\n",
       "                               title  video vote_average vote_count  \n",
       "30431       Binta and the Great Idea  False          3.5        3.0  \n",
       "41016    The Invisible Man's Revenge  False          5.4        7.0  \n",
       "14484                      Planet 51  False          5.6      573.0  \n",
       "8577   Hush... Hush, Sweet Charlotte  False          7.0       54.0  \n",
       "36855                  Dancing Ninja  False          4.7        3.0  \n",
       "\n",
       "[5 rows x 24 columns]"
      ]
     },
     "execution_count": 13,
     "metadata": {},
     "output_type": "execute_result"
    }
   ],
   "source": [
    "kaggle_metadata.sample(5)"
   ]
  },
  {
   "cell_type": "markdown",
   "metadata": {},
   "source": [
    "# Tranformation/Clean data set"
   ]
  },
  {
   "cell_type": "code",
   "execution_count": 14,
   "metadata": {},
   "outputs": [],
   "source": [
    "wiki_movies_df=pd.DataFrame(wiki_movies_raw)"
   ]
  },
  {
   "cell_type": "code",
   "execution_count": 48,
   "metadata": {},
   "outputs": [],
   "source": [
    "#wiki_movies_df.head()"
   ]
  },
  {
   "cell_type": "code",
   "execution_count": 49,
   "metadata": {},
   "outputs": [],
   "source": [
    "#wiki_movies_df.columns.tolist()"
   ]
  },
  {
   "cell_type": "markdown",
   "metadata": {},
   "source": [
    "## Structure of list comprehension:\n",
    "### [expression for element in source_list if some_expression]"
   ]
  },
  {
   "cell_type": "code",
   "execution_count": 26,
   "metadata": {},
   "outputs": [
    {
     "data": {
      "text/plain": [
       "7076"
      ]
     },
     "execution_count": 26,
     "metadata": {},
     "output_type": "execute_result"
    }
   ],
   "source": [
    "wiki_movies=[movie for movie in wiki_movies_raw if ('Director' in movie \n",
    "                                                     or 'Directed by' in movie \n",
    "                                                     and 'imdb_link' in movie\n",
    "                                                   and 'No. of episodes' not in movie)]\n",
    "len(wiki_movies)"
   ]
  },
  {
   "cell_type": "code",
   "execution_count": 50,
   "metadata": {},
   "outputs": [],
   "source": [
    "wiki_movies_df=pd.DataFrame(wiki_movies)\n",
    "#wiki_movies_df.head()"
   ]
  },
  {
   "cell_type": "code",
   "execution_count": 51,
   "metadata": {},
   "outputs": [],
   "source": [
    "#sorted(wiki_movies_df.columns.tolist())"
   ]
  },
  {
   "cell_type": "code",
   "execution_count": 38,
   "metadata": {},
   "outputs": [
    {
     "data": {
      "text/html": [
       "<div>\n",
       "<style scoped>\n",
       "    .dataframe tbody tr th:only-of-type {\n",
       "        vertical-align: middle;\n",
       "    }\n",
       "\n",
       "    .dataframe tbody tr th {\n",
       "        vertical-align: top;\n",
       "    }\n",
       "\n",
       "    .dataframe thead th {\n",
       "        text-align: right;\n",
       "    }\n",
       "</style>\n",
       "<table border=\"1\" class=\"dataframe\">\n",
       "  <thead>\n",
       "    <tr style=\"text-align: right;\">\n",
       "      <th></th>\n",
       "      <th>url</th>\n",
       "      <th>year</th>\n",
       "      <th>imdb_link</th>\n",
       "      <th>title</th>\n",
       "      <th>Directed by</th>\n",
       "      <th>Produced by</th>\n",
       "      <th>Screenplay by</th>\n",
       "      <th>Story by</th>\n",
       "      <th>Based on</th>\n",
       "      <th>Starring</th>\n",
       "      <th>...</th>\n",
       "      <th>Hepburn</th>\n",
       "      <th>Literally</th>\n",
       "      <th>Cantonese</th>\n",
       "      <th>Chinese</th>\n",
       "      <th>Yiddish</th>\n",
       "      <th>Arabic</th>\n",
       "      <th>Romanized</th>\n",
       "      <th>Russian</th>\n",
       "      <th>Hebrew</th>\n",
       "      <th>Polish</th>\n",
       "    </tr>\n",
       "  </thead>\n",
       "  <tbody>\n",
       "    <tr>\n",
       "      <th>7070</th>\n",
       "      <td>https://en.wikipedia.org/wiki/Cold_War_(2018_f...</td>\n",
       "      <td>2018</td>\n",
       "      <td>https://www.imdb.com/title/tt6543652/</td>\n",
       "      <td>Cold War</td>\n",
       "      <td>Paweł Pawlikowski</td>\n",
       "      <td>[Tanya Seghatchian, Ewa Puszczyńska]</td>\n",
       "      <td>NaN</td>\n",
       "      <td>NaN</td>\n",
       "      <td>NaN</td>\n",
       "      <td>[Joanna Kulig, Tomasz Kot, Borys Szyc, Agata K...</td>\n",
       "      <td>...</td>\n",
       "      <td>NaN</td>\n",
       "      <td>NaN</td>\n",
       "      <td>NaN</td>\n",
       "      <td>NaN</td>\n",
       "      <td>NaN</td>\n",
       "      <td>NaN</td>\n",
       "      <td>NaN</td>\n",
       "      <td>NaN</td>\n",
       "      <td>NaN</td>\n",
       "      <td>Zimna wojna</td>\n",
       "    </tr>\n",
       "  </tbody>\n",
       "</table>\n",
       "<p>1 rows × 75 columns</p>\n",
       "</div>"
      ],
      "text/plain": [
       "                                                    url  year  \\\n",
       "7070  https://en.wikipedia.org/wiki/Cold_War_(2018_f...  2018   \n",
       "\n",
       "                                  imdb_link     title        Directed by  \\\n",
       "7070  https://www.imdb.com/title/tt6543652/  Cold War  Paweł Pawlikowski   \n",
       "\n",
       "                               Produced by Screenplay by Story by Based on  \\\n",
       "7070  [Tanya Seghatchian, Ewa Puszczyńska]           NaN      NaN      NaN   \n",
       "\n",
       "                                               Starring  ... Hepburn  \\\n",
       "7070  [Joanna Kulig, Tomasz Kot, Borys Szyc, Agata K...  ...     NaN   \n",
       "\n",
       "     Literally Cantonese Chinese Yiddish Arabic Romanized Russian Hebrew  \\\n",
       "7070       NaN       NaN     NaN     NaN    NaN       NaN     NaN    NaN   \n",
       "\n",
       "           Polish  \n",
       "7070  Zimna wojna  \n",
       "\n",
       "[1 rows x 75 columns]"
      ]
     },
     "execution_count": 38,
     "metadata": {},
     "output_type": "execute_result"
    }
   ],
   "source": [
    "wiki_movies_df[wiki_movies_df['Polish'].notnull()]"
   ]
  },
  {
   "cell_type": "markdown",
   "metadata": {},
   "source": [
    "## Delete the columns that with an alternative name, and create a new \"alternative name\" column in dataframe"
   ]
  },
  {
   "cell_type": "code",
   "execution_count": 41,
   "metadata": {},
   "outputs": [],
   "source": [
    "def clean_movie(movie):\n",
    "    movie=dict(movie) # create a non-destructive copy\n",
    "    alt_titles={}\n",
    "    for key in ['Also known as','Arabic','Cantonese','Chinese','French',\n",
    "                'Hangul','Hebrew','Hepburn','Japanese','Literally',\n",
    "                'Mandarin','McCune–Reischauer','Original title','Polish',\n",
    "                'Revised Romanization','Romanized','Russian',\n",
    "                'Simplified','Traditional','Yiddish']:\n",
    "        if key in movie:\n",
    "            alt_titles[key]=movie[key]\n",
    "            movie.pop(key)\n",
    "    if len(alt_titles)>0:\n",
    "        movie['alt_titles']=alt_titles\n",
    "    return movie\n",
    "# return a single dictionary"
   ]
  },
  {
   "cell_type": "code",
   "execution_count": 43,
   "metadata": {},
   "outputs": [
    {
     "data": {
      "text/plain": [
       "['Adaptation by',\n",
       " 'Animation by',\n",
       " 'Audio format',\n",
       " 'Based on',\n",
       " 'Box office',\n",
       " 'Budget',\n",
       " 'Cinematography',\n",
       " 'Color process',\n",
       " 'Composer(s)',\n",
       " 'Country',\n",
       " 'Country of origin',\n",
       " 'Created by',\n",
       " 'Directed by',\n",
       " 'Director',\n",
       " 'Distributed by',\n",
       " 'Distributor',\n",
       " 'Edited by',\n",
       " 'Editor(s)',\n",
       " 'Executive producer(s)',\n",
       " 'Followed by',\n",
       " 'Genre',\n",
       " 'Label',\n",
       " 'Language',\n",
       " 'Length',\n",
       " 'Music by',\n",
       " 'Narrated by',\n",
       " 'Original language(s)',\n",
       " 'Original network',\n",
       " 'Original release',\n",
       " 'Picture format',\n",
       " 'Preceded by',\n",
       " 'Produced by',\n",
       " 'Producer',\n",
       " 'Producer(s)',\n",
       " 'Production company(s)',\n",
       " 'Production location(s)',\n",
       " 'Productioncompanies ',\n",
       " 'Productioncompany ',\n",
       " 'Recorded',\n",
       " 'Release date',\n",
       " 'Released',\n",
       " 'Running time',\n",
       " 'Screen story by',\n",
       " 'Screenplay by',\n",
       " 'Starring',\n",
       " 'Story by',\n",
       " 'Suggested by',\n",
       " 'Theme music composer',\n",
       " 'Venue',\n",
       " 'Voices of',\n",
       " 'Written by',\n",
       " 'alt_titles',\n",
       " 'imdb_link',\n",
       " 'title',\n",
       " 'url',\n",
       " 'year']"
      ]
     },
     "execution_count": 43,
     "metadata": {},
     "output_type": "execute_result"
    }
   ],
   "source": [
    "# create a new list of dictionary\n",
    "clean_movies=[clean_movie(movie) for movie in wiki_movies] # Every item in wiki_movies list is a dictionary\n",
    "wiki_movies_df=pd.DataFrame(clean_movies)\n",
    "sorted(wiki_movies_df.columns.tolist())"
   ]
  },
  {
   "cell_type": "code",
   "execution_count": null,
   "metadata": {},
   "outputs": [],
   "source": []
  }
 ],
 "metadata": {
  "kernelspec": {
   "display_name": "PythonData",
   "language": "python",
   "name": "pythondata"
  },
  "language_info": {
   "codemirror_mode": {
    "name": "ipython",
    "version": 3
   },
   "file_extension": ".py",
   "mimetype": "text/x-python",
   "name": "python",
   "nbconvert_exporter": "python",
   "pygments_lexer": "ipython3",
   "version": "3.8.5"
  }
 },
 "nbformat": 4,
 "nbformat_minor": 4
}
